{
 "cells": [
  {
   "cell_type": "code",
   "execution_count": null,
   "id": "20b0c835",
   "metadata": {},
   "outputs": [],
   "source": [
    "import pandas as pd\n",
    "from shapely.geometry import Point\n",
    "from shapely.geometry.polygon import Polygon\n",
    "import pandas as pd\n",
    "import numpy as np\n",
    "import json\n",
    "import math\n",
    "import plotly.express as px\n",
    "# import plotly.graph_objs as go\n",
    "import datetime as dt\n",
    "import seaborn as sns"
   ]
  },
  {
   "cell_type": "markdown",
   "id": "2d112342",
   "metadata": {},
   "source": [
    "# Data Cleaning"
   ]
  },
  {
   "cell_type": "code",
   "execution_count": null,
   "id": "0bd952d7",
   "metadata": {},
   "outputs": [],
   "source": [
    "# first, we read the csv file as a pandas dataframe object\n",
    "permit = pd.read_csv(\"Film_Permits.csv\")"
   ]
  },
  {
   "cell_type": "code",
   "execution_count": null,
   "id": "2eeae7db",
   "metadata": {},
   "outputs": [],
   "source": [
    "# we drop the nan values in the dataframe\n",
    "permit = permit.dropna()\n",
    "# convert to datetime 可以之后再做一些date analysis什么的 根据时间怎么变化\n",
    "permit['StartDateTime'] = pd.to_datetime(permit['StartDateTime'])\n",
    "permit['EndDateTime'] = pd.to_datetime(permit['EndDateTime'])\n",
    "permit['duration'] = permit.apply(lambda x: x['EndDateTime']- x['StartDateTime'], axis=1)"
   ]
  },
  {
   "cell_type": "code",
   "execution_count": null,
   "id": "90cf1d07",
   "metadata": {},
   "outputs": [],
   "source": [
    "# here we print the first 5 rows of the dataframe\n",
    "permit.head()\n",
    "# we are going to use zipcode as the key to plot in the map\n",
    "# we can see some permits have two zipcodes, need to seperate them as different row"
   ]
  },
  {
   "cell_type": "code",
   "execution_count": null,
   "id": "1cff2f27",
   "metadata": {},
   "outputs": [],
   "source": [
    "col_names_wo_zipcode = list(permit.columns)\n",
    "col_names_wo_zipcode.remove('ZipCode(s)')\n",
    "print(col_names_wo_zipcode)"
   ]
  },
  {
   "cell_type": "code",
   "execution_count": null,
   "id": "0016f5cd",
   "metadata": {},
   "outputs": [],
   "source": [
    "# we split the zip code so that every row only has one zip code\n",
    "permit = permit.set_index(col_names_wo_zipcode).apply(lambda x: x.str.split(',').explode()).reset_index()"
   ]
  },
  {
   "cell_type": "code",
   "execution_count": null,
   "id": "09e7ad89",
   "metadata": {},
   "outputs": [],
   "source": [
    "#we can see now there is only one zipcode per row\n",
    "permit.head()"
   ]
  },
  {
   "cell_type": "markdown",
   "id": "0faa5806",
   "metadata": {},
   "source": [
    "# Data Analysis"
   ]
  },
  {
   "cell_type": "code",
   "execution_count": null,
   "id": "89ebe2b1",
   "metadata": {},
   "outputs": [],
   "source": [
    "# want to see the relationship between event type and category. How many events in what category and how many categories in what event\n",
    "typecategory = permit[['EventType','Category']].copy()\n",
    "#we set a count\n",
    "typecategory['count'] = 1\n",
    "typecategory = typecategory.groupby(['EventType','Category']).count()[['count']]\n",
    "\n",
    "typecategory = typecategory.reset_index()\n",
    "unique_event_types = np.unique(typecategory['EventType'])\n",
    "unique_event_types = unique_event_types.reshape((2,2))\n",
    "import matplotlib.pyplot as plt\n",
    "\n",
    "# Pie chart, where the slices will be ordered and plotted counter-clockwise:\n",
    "sizes = [15, 30, 45, 10]\n",
    "explode = (0, 0.1, 0, 0)  # only \"explode\" the 2nd slice (i.e. 'Hogs')\n",
    "\n",
    "fig, ax = plt.subplots(nrows=2, ncols=2,figsize=(20,20))\n",
    "for i in range(2):\n",
    "    for j in range(2):\n",
    "        eventtypedf = typecategory[typecategory['EventType']==unique_event_types[i][j]]\n",
    "        ax[i][j].pie(eventtypedf['count'], labels=eventtypedf['Category'], autopct='%1.1f%%',\n",
    "                shadow=True, startangle=90)\n",
    "        ax[i][j].axis('equal')  # Equal aspect ratio ensures that pie is drawn as a circle.\n",
    "        ax[i][j].set_title(unique_event_types[i][j])\n",
    "        ax[i][j].legend(loc=\"lower right\")\n",
    "plt.show()"
   ]
  },
  {
   "cell_type": "code",
   "execution_count": null,
   "id": "b1013587",
   "metadata": {},
   "outputs": [],
   "source": [
    "unique_category = np.unique(typecategory['Category'])\n",
    "# unique_category = unique_category.reshape()"
   ]
  },
  {
   "cell_type": "code",
   "execution_count": null,
   "id": "c49d0aba",
   "metadata": {},
   "outputs": [],
   "source": [
    "pivot = pd.pivot_table(typecategory,values='count', index=['Category'],\n",
    "                    columns=['EventType'])\n",
    "stacked_bar_df = pivot.fillna(0).cumsum().reset_index()"
   ]
  },
  {
   "cell_type": "code",
   "execution_count": null,
   "id": "1a13aceb",
   "metadata": {},
   "outputs": [],
   "source": [
    "import matplotlib.pyplot as plt\n",
    "stacked_bar_df.plot(x='Category', kind='bar', stacked=True,title='Event type distribution for each category')\n",
    "plt.show()"
   ]
  },
  {
   "cell_type": "code",
   "execution_count": null,
   "id": "7dc50f62",
   "metadata": {},
   "outputs": [],
   "source": [
    "# initialize\n",
    "permit['hour'] = 0\n",
    "\n",
    "def transfer_to_hour(x):\n",
    "    if x['duration']>dt.timedelta(1):\n",
    "        hour = np.arange(0,24)\n",
    "    else:\n",
    "        hour = np.arange(x['StartDateTime'].hour,24)\n",
    "        hour=np.append(hour,np.arange(0,x['EndDateTime'].hour))\n",
    "    return hour\n",
    "\n",
    "# find the effective hours of a day of each permit\n",
    "permit['hour'] = permit.apply(transfer_to_hour,axis=1)"
   ]
  },
  {
   "cell_type": "code",
   "execution_count": null,
   "id": "d00ce4c4",
   "metadata": {},
   "outputs": [],
   "source": [
    "#take a look, each permit has the effective hours in the hour column\n",
    "permit.head()"
   ]
  },
  {
   "cell_type": "code",
   "execution_count": null,
   "id": "37413790",
   "metadata": {},
   "outputs": [],
   "source": [
    "#do the same thing as zipcode\n",
    "hourly_permit = permit.explode('hour')\n",
    "hourly_eventype_count = hourly_permit.groupby(['hour','EventType']).count()[['EventID']]\n",
    "hourly_category_count = hourly_permit.groupby(['hour','Category']).count()[['EventID']]\n",
    "\n",
    "heatmap_category_pt  = pd.pivot_table(hourly_category_count, values='EventID', \n",
    " index=['hour'], \n",
    " columns='Category')\n",
    "heatmap_eventtype_pt  = pd.pivot_table(hourly_eventype_count, values='EventID', \n",
    " index=['hour'], \n",
    " columns='EventType')"
   ]
  },
  {
   "cell_type": "code",
   "execution_count": null,
   "id": "bcf2b435",
   "metadata": {},
   "outputs": [],
   "source": [
    "sns.heatmap(heatmap_eventtype_pt,cmap='YlGnBu' )"
   ]
  },
  {
   "cell_type": "code",
   "execution_count": null,
   "id": "208d423c",
   "metadata": {},
   "outputs": [],
   "source": [
    "sns.heatmap(heatmap_category_pt,cmap='YlGnBu' )"
   ]
  },
  {
   "cell_type": "markdown",
   "id": "d9777917",
   "metadata": {},
   "source": [
    "## Static map (sum of number of permit by area)"
   ]
  },
  {
   "cell_type": "code",
   "execution_count": null,
   "id": "12738624",
   "metadata": {},
   "outputs": [],
   "source": [
    "zipcodecount = permit.groupby([\"ZipCode(s)\"]).count()[['EventType']]\n",
    "zipcodecount = zipcodecount.reset_index()\n",
    "zipcodecount.columns = ['zipcode','count']\n",
    "permit[\"ZipCode(s)\"].value_counts()\n",
    "\n",
    "zipmap = json.load(open(\"ZIP map2.geojson\"))\n",
    "\n",
    "fig = px.choropleth_mapbox(zipcodecount,\n",
    "                           geojson=zipmap,\n",
    "                           locations=\"zipcode\",\n",
    "                           featureidkey=\"properties.postalCode\",\n",
    "                           color=\"count\",\n",
    "                           color_continuous_scale=\"blackbody\",\n",
    "                           mapbox_style=\"carto-positron\",\n",
    "                           zoom=9, center={\"lat\": 40.7, \"lon\": -73.9},\n",
    "                           opacity=0.7,\n",
    "                           hover_name=\"count\"\n",
    "                           )\n",
    "\n",
    "\n",
    "fig.show()"
   ]
  },
  {
   "cell_type": "markdown",
   "id": "1bd3d2d1",
   "metadata": {},
   "source": [
    "## Dynamic map (sum of number of permit by area by hour)"
   ]
  },
  {
   "cell_type": "code",
   "execution_count": null,
   "id": "4d300938",
   "metadata": {},
   "outputs": [],
   "source": [
    "zipcodehourcount = permit.explode('hour').groupby([\"ZipCode(s)\",'hour']).count()[['EventType']]\n",
    "zipcodehourcount = zipcodehourcount.reset_index()\n",
    "zipcodehourcount.columns = ['zipcode','hour','count']\n",
    "\n",
    "fig = px.choropleth_mapbox(zipcodehourcount,\n",
    "                           geojson=zipmap,\n",
    "                           locations=\"zipcode\",\n",
    "                           featureidkey=\"properties.postalCode\",\n",
    "                           color=\"count\",\n",
    "                           color_continuous_scale=\"blackbody\",\n",
    "                           mapbox_style=\"carto-positron\",\n",
    "                           zoom=10, center={\"lat\": 40.7, \"lon\": -73.9},\n",
    "                           opacity=0.7,\n",
    "                           hover_name=\"count\",\n",
    "                           animation_frame='hour'\n",
    "                           )\n",
    "\n",
    "\n",
    "fig.show()"
   ]
  },
  {
   "cell_type": "code",
   "execution_count": null,
   "id": "bb04198c",
   "metadata": {},
   "outputs": [],
   "source": []
  }
 ],
 "metadata": {
  "kernelspec": {
   "display_name": "Python 3",
   "language": "python",
   "name": "python3"
  },
  "language_info": {
   "codemirror_mode": {
    "name": "ipython",
    "version": 3
   },
   "file_extension": ".py",
   "mimetype": "text/x-python",
   "name": "python",
   "nbconvert_exporter": "python",
   "pygments_lexer": "ipython3",
   "version": "3.8.8"
  }
 },
 "nbformat": 4,
 "nbformat_minor": 5
}
